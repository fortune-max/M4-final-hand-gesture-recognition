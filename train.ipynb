{
  "cells": [
    {
      "cell_type": "markdown",
      "metadata": {
        "colab_type": "text",
        "id": "view-in-github"
      },
      "source": [
        "<a href=\"https://colab.research.google.com/github/fortune-max/M4-final-hand-gesture-recognition/blob/main/recognition.ipynb\" target=\"_parent\"><img src=\"https://colab.research.google.com/assets/colab-badge.svg\" alt=\"Open In Colab\"/></a>"
      ]
    },
    {
      "cell_type": "code",
      "execution_count": null,
      "metadata": {},
      "outputs": [],
      "source": [
        "!mkdir -p pretrained_models\n",
        "!wget https://n-ws-620xz-pd11.s3pd11.sbercloud.ru/b-ws-620xz-pd11-jux/hagrid/hagrid_models_new/RetinaNet_ResNet50.pth -O pretrained_models/RetinaNet_ResNet50.pth"
      ]
    },
    {
      "cell_type": "code",
      "execution_count": null,
      "metadata": {},
      "outputs": [],
      "source": [
        "import torch\n",
        "from models.detectors.retinanet import RetinaNet_ResNet50\n",
        "\n",
        "model = RetinaNet_ResNet50(\n",
        "    num_classes=20,\n",
        "    pretrained=False,\n",
        "    img_mean=[0.54, 0.499, 0.473],\n",
        "    img_std=[0.231, 0.232, 0.229],\n",
        "    img_size=224\n",
        ")\n",
        "model.type = \"detector\"\n",
        "model_state = torch.load(\"pretrained_models/RetinaNet_ResNet50.pth\", map_location=torch.device('cpu'))[\"MODEL_STATE\"]\n",
        "model.load_state_dict(model_state)\n",
        "model.train()"
      ]
    },
    {
      "cell_type": "code",
      "execution_count": null,
      "metadata": {},
      "outputs": [],
      "source": [
        "# Modifying the classification head\n",
        "import torch.nn as nn\n",
        "\n",
        "num_classes = 39\n",
        "new_cls_logits= nn.Conv2d(\n",
        "    256, model.hagrid_model.head.classification_head.num_anchors * num_classes, kernel_size=3, stride=1, padding=1\n",
        ")\n",
        "\n",
        "# Copying over the weights we can from the old layer\n",
        "old_weights = model.hagrid_model.head.classification_head.cls_logits.weight.data\n",
        "new_cls_logits.weight.data[:old_weights.shape[0], :, :, :] = old_weights\n",
        "model.hagrid_model.head.classification_head.cls_logits = new_cls_logits\n",
        "model.hagrid_model.head.classification_head.num_classes = num_classes"
      ]
    },
    {
      "cell_type": "code",
      "execution_count": null,
      "metadata": {},
      "outputs": [],
      "source": [
        "import cv2\n",
        "from PIL import Image\n",
        "import albumentations as A\n",
        "from albumentations.pytorch import ToTensorV2\n",
        "\n",
        "transform = A.Compose([\n",
        "    A.LongestMaxSize(max_size=224, p=1),\n",
        "    A.PadIfNeeded(min_height=224, min_width=224, value=[144, 144, 144], border_mode=0, p=1),\n",
        "    ToTensorV2()\n",
        "])\n",
        "\n",
        "def preprocess_image(img):\n",
        "    img = cv2.cvtColor(img, cv2.COLOR_BGR2RGB)\n",
        "    transformed_image = transform(image=img)\n",
        "    processed_image = transformed_image[\"image\"] / 255.0\n",
        "    return processed_image\n",
        "\n",
        "def permute_processed_image(img):\n",
        "    return img.permute(1, 2, 0)\n",
        "\n",
        "def get_image(processed_img):\n",
        "    return Image.fromarray((permute_processed_image(processed_img) * 255).numpy().astype(\"uint8\"))"
      ]
    },
    {
      "cell_type": "code",
      "execution_count": null,
      "metadata": {},
      "outputs": [],
      "source": [
        "from string import ascii_uppercase\n",
        "targets = list(ascii_uppercase) + list(range(10)) + [\n",
        "    \"space\",\n",
        "    \"del\",\n",
        "]\n",
        "targets = {target: i for i, target in enumerate(targets)}"
      ]
    },
    {
      "cell_type": "code",
      "execution_count": null,
      "metadata": {},
      "outputs": [],
      "source": [
        "import cv2\n",
        "import pandas as pd\n",
        "from tqdm import tqdm\n",
        "from sklearn.utils import shuffle\n",
        "\n",
        "training_images = []\n",
        "training_labels = []\n",
        "\n",
        "cut_off = 500 # None for all\n",
        "train_csv = pd.read_csv(\"ASL/Training_set.csv\").head(cut_off)\n",
        "train_csv = shuffle(train_csv, random_state=42)\n",
        "\n",
        "for i in tqdm(range(len(train_csv))):\n",
        "    row = train_csv.iloc[i]\n",
        "    if row[\"label\"] not in targets: continue\n",
        "    img = cv2.imread(\"ASL/train/\" + row[\"filename\"])\n",
        "    img = preprocess_image(img)\n",
        "    training_images.append(img)\n",
        "    training_labels.append(targets[row[\"label\"]])"
      ]
    },
    {
      "cell_type": "code",
      "execution_count": null,
      "metadata": {},
      "outputs": [],
      "source": [
        "display(get_image(training_images[7]))\n",
        "print(list(targets)[training_labels[7]])"
      ]
    },
    {
      "cell_type": "code",
      "execution_count": null,
      "metadata": {},
      "outputs": [],
      "source": [
        "from sklearn.model_selection import train_test_split\n",
        "\n",
        "x_train, x_val, y_train, y_val = train_test_split(training_images, training_labels, test_size=0.2, random_state=42)"
      ]
    },
    {
      "cell_type": "code",
      "execution_count": null,
      "metadata": {},
      "outputs": [],
      "source": [
        "# Freeze all layers except the classification head\n",
        "def freeze(model):\n",
        "    for param in model.parameters():\n",
        "        param.requires_grad = False\n",
        "\n",
        "model.hagrid_model.apply(freeze)\n",
        "\n",
        "for param in model.hagrid_model.head.classification_head.parameters():\n",
        "    param.requires_grad = True"
      ]
    },
    {
      "cell_type": "code",
      "execution_count": null,
      "metadata": {},
      "outputs": [],
      "source": [
        "from torch import optim, nn\n",
        "\n",
        "# Train the model\n",
        "num_epochs = 1\n",
        "boxes = torch.tensor([[0, 0, 224, 224]]) # box is the entire image\n",
        "\n",
        "criterion = nn.CrossEntropyLoss()\n",
        "optimizer = optim.SGD(\n",
        "    [parameter for parameter in model.parameters() if parameter.requires_grad],\n",
        "    lr=0.01, momentum=0.9, weight_decay=0.0001)\n",
        "\n",
        "for epoch in range(num_epochs):\n",
        "    for input, label in zip(x_train, y_train):\n",
        "        model_targets = {\"boxes\": boxes, \"labels\": torch.tensor([label])}\n",
        "        optimizer.zero_grad()\n",
        "        loss = model([input], [model_targets])[0]\n",
        "        loss.backward()\n",
        "        optimizer.step()\n",
        "\n",
        "# Evaluate the model\n",
        "model.eval()\n",
        "with torch.no_grad():\n",
        "    total = 0\n",
        "    correct = 0\n",
        "    for input, label in zip(x_val, y_val):\n",
        "        output = model([input])[0]\n",
        "        predicted_box = output[\"boxes\"][0]\n",
        "        predicted_label = output[\"labels\"][0]\n",
        "        predicted_score = output[\"scores\"][0]\n",
        "        predicted_target = predicted_label.item()\n",
        "        total += 1\n",
        "        if predicted_target == label: correct += 1\n",
        "    print(\"Accuracy: {}%\".format(100 * correct / total))"
      ]
    },
    {
      "cell_type": "code",
      "execution_count": null,
      "metadata": {},
      "outputs": [],
      "source": [
        "%debug"
      ]
    },
    {
      "cell_type": "code",
      "execution_count": null,
      "metadata": {},
      "outputs": [],
      "source": [
        "#  ignore, for reloading the module\n",
        "import importlib\n",
        "import models.detectors.retinanet\n",
        "importlib.reload(models.detectors.retinanet)\n",
        "from models.detectors.retinanet import RetinaNet_ResNet50"
      ]
    }
  ],
  "metadata": {
    "colab": {
      "include_colab_link": true,
      "provenance": []
    },
    "kernelspec": {
      "display_name": "Python 3",
      "name": "python3"
    },
    "language_info": {
      "codemirror_mode": {
        "name": "ipython",
        "version": 3
      },
      "file_extension": ".py",
      "mimetype": "text/x-python",
      "name": "python",
      "nbconvert_exporter": "python",
      "pygments_lexer": "ipython3",
      "version": "3.11.5"
    }
  },
  "nbformat": 4,
  "nbformat_minor": 0
}
